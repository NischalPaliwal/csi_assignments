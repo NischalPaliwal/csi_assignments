{
 "cells": [
  {
   "cell_type": "code",
   "execution_count": 10,
   "id": "8cb1c3c7-bb15-4a33-95f4-3c99fd75c6e2",
   "metadata": {},
   "outputs": [
    {
     "name": "stdout",
     "output_type": "stream",
     "text": [
      "+--------+--------------------+---------------------+---------------+-------------+----------+------------------+------------+------------+------------+-----------+-----+-------+----------+------------+---------------------+------------+--------------------+-----------+\n",
      "|VendorID|tpep_pickup_datetime|tpep_dropoff_datetime|passenger_count|trip_distance|RatecodeID|store_and_fwd_flag|PULocationID|DOLocationID|payment_type|fare_amount|extra|mta_tax|tip_amount|tolls_amount|improvement_surcharge|total_amount|congestion_surcharge|airport_fee|\n",
      "+--------+--------------------+---------------------+---------------+-------------+----------+------------------+------------+------------+------------+-----------+-----+-------+----------+------------+---------------------+------------+--------------------+-----------+\n",
      "|       1| 2018-01-01 00:21:05|  2018-01-01 00:24:23|              1|          0.5|         1|                 N|          41|          24|           2|        4.5|  0.5|    0.5|       0.0|         0.0|                  0.3|         5.8|                NULL|       NULL|\n",
      "|       1| 2018-01-01 00:44:55|  2018-01-01 01:03:05|              1|          2.7|         1|                 N|         239|         140|           2|       14.0|  0.5|    0.5|       0.0|         0.0|                  0.3|        15.3|                NULL|       NULL|\n",
      "|       1| 2018-01-01 00:08:26|  2018-01-01 00:14:21|              2|          0.8|         1|                 N|         262|         141|           1|        6.0|  0.5|    0.5|       1.0|         0.0|                  0.3|         8.3|                NULL|       NULL|\n",
      "|       1| 2018-01-01 00:20:22|  2018-01-01 00:52:51|              1|         10.2|         1|                 N|         140|         257|           2|       33.5|  0.5|    0.5|       0.0|         0.0|                  0.3|        34.8|                NULL|       NULL|\n",
      "|       1| 2018-01-01 00:09:18|  2018-01-01 00:27:06|              2|          2.5|         1|                 N|         246|         239|           1|       12.5|  0.5|    0.5|      2.75|         0.0|                  0.3|       16.55|                NULL|       NULL|\n",
      "+--------+--------------------+---------------------+---------------+-------------+----------+------------------+------------+------------+------------+-----------+-----+-------+----------+------------+---------------------+------------+--------------------+-----------+\n",
      "only showing top 5 rows\n"
     ]
    }
   ],
   "source": [
    "from pyspark.sql import SparkSession\n",
    "from pyspark.sql.functions import *\n",
    "\n",
    "spark = SparkSession.builder.appName(\"NYC_Taxi_Analysis\").getOrCreate()\n",
    "\n",
    "df = spark.read \\\n",
    "    .option(\"header\", \"true\") \\\n",
    "    .option(\"inferSchema\", \"true\") \\\n",
    "    .option(\"multiline\", \"true\") \\\n",
    "    .format('parquet').load(\"data/yellow_tripdata_2018-01.parquet\")\n",
    "\n",
    "df.show(5)"
   ]
  },
  {
   "cell_type": "code",
   "execution_count": 11,
   "id": "155c615d-941d-487a-b4ee-4b3735240f18",
   "metadata": {},
   "outputs": [
    {
     "name": "stdout",
     "output_type": "stream",
     "text": [
      "root\n",
      " |-- VendorID: long (nullable = true)\n",
      " |-- tpep_pickup_datetime: timestamp_ntz (nullable = true)\n",
      " |-- tpep_dropoff_datetime: timestamp_ntz (nullable = true)\n",
      " |-- passenger_count: long (nullable = true)\n",
      " |-- trip_distance: double (nullable = true)\n",
      " |-- RatecodeID: long (nullable = true)\n",
      " |-- store_and_fwd_flag: string (nullable = true)\n",
      " |-- PULocationID: long (nullable = true)\n",
      " |-- DOLocationID: long (nullable = true)\n",
      " |-- payment_type: long (nullable = true)\n",
      " |-- fare_amount: double (nullable = true)\n",
      " |-- extra: double (nullable = true)\n",
      " |-- mta_tax: double (nullable = true)\n",
      " |-- tip_amount: double (nullable = true)\n",
      " |-- tolls_amount: double (nullable = true)\n",
      " |-- improvement_surcharge: double (nullable = true)\n",
      " |-- total_amount: double (nullable = true)\n",
      " |-- congestion_surcharge: double (nullable = true)\n",
      " |-- airport_fee: double (nullable = true)\n",
      "\n"
     ]
    }
   ],
   "source": [
    "df.printSchema()"
   ]
  },
  {
   "cell_type": "code",
   "execution_count": 19,
   "id": "28f46273-161e-4966-8b1f-cd2c74e863bb",
   "metadata": {},
   "outputs": [],
   "source": [
    "from pyspark.sql.functions import col\n",
    "\n",
    "df = df.withColumn(\"Revenue\", \n",
    "    col(\"fare_amount\") + \n",
    "    col(\"extra\") + \n",
    "    col(\"mta_tax\") + \n",
    "    col(\"tip_amount\") + \n",
    "    col(\"tolls_amount\") + \n",
    "    col(\"improvement_surcharge\") + \n",
    "    col(\"total_amount\")\n",
    ")"
   ]
  },
  {
   "cell_type": "code",
   "execution_count": 20,
   "id": "5278e41f-20c5-4bb0-982f-dc4313e74d94",
   "metadata": {},
   "outputs": [
    {
     "name": "stdout",
     "output_type": "stream",
     "text": [
      "+--------+--------------------+---------------------+---------------+-------------+----------+------------------+------------+------------+------------+-----------+-----+-------+----------+------------+---------------------+------------+--------------------+-----------+------------------+\n",
      "|VendorID|tpep_pickup_datetime|tpep_dropoff_datetime|passenger_count|trip_distance|RatecodeID|store_and_fwd_flag|PULocationID|DOLocationID|payment_type|fare_amount|extra|mta_tax|tip_amount|tolls_amount|improvement_surcharge|total_amount|congestion_surcharge|airport_fee|           Revenue|\n",
      "+--------+--------------------+---------------------+---------------+-------------+----------+------------------+------------+------------+------------+-----------+-----+-------+----------+------------+---------------------+------------+--------------------+-----------+------------------+\n",
      "|       1| 2018-01-01 00:21:05|  2018-01-01 00:24:23|              1|          0.5|         1|                 N|          41|          24|           2|        4.5|  0.5|    0.5|       0.0|         0.0|                  0.3|         5.8|                NULL|       NULL|              11.6|\n",
      "|       1| 2018-01-01 00:44:55|  2018-01-01 01:03:05|              1|          2.7|         1|                 N|         239|         140|           2|       14.0|  0.5|    0.5|       0.0|         0.0|                  0.3|        15.3|                NULL|       NULL|              30.6|\n",
      "|       1| 2018-01-01 00:08:26|  2018-01-01 00:14:21|              2|          0.8|         1|                 N|         262|         141|           1|        6.0|  0.5|    0.5|       1.0|         0.0|                  0.3|         8.3|                NULL|       NULL|              16.6|\n",
      "|       1| 2018-01-01 00:20:22|  2018-01-01 00:52:51|              1|         10.2|         1|                 N|         140|         257|           2|       33.5|  0.5|    0.5|       0.0|         0.0|                  0.3|        34.8|                NULL|       NULL|              69.6|\n",
      "|       1| 2018-01-01 00:09:18|  2018-01-01 00:27:06|              2|          2.5|         1|                 N|         246|         239|           1|       12.5|  0.5|    0.5|      2.75|         0.0|                  0.3|       16.55|                NULL|       NULL|              33.1|\n",
      "|       1| 2018-01-01 00:29:29|  2018-01-01 00:32:48|              3|          0.5|         1|                 N|         143|         143|           2|        4.5|  0.5|    0.5|       0.0|         0.0|                  0.3|         5.8|                NULL|       NULL|              11.6|\n",
      "|       1| 2018-01-01 00:38:08|  2018-01-01 00:48:24|              2|          1.7|         1|                 N|          50|         239|           1|        9.0|  0.5|    0.5|      2.05|         0.0|                  0.3|       12.35|                NULL|       NULL|24.700000000000003|\n",
      "|       1| 2018-01-01 00:49:29|  2018-01-01 00:51:53|              1|          0.7|         1|                 N|         239|         238|           1|        4.0|  0.5|    0.5|       1.0|         0.0|                  0.3|         6.3|                NULL|       NULL|              12.6|\n",
      "|       1| 2018-01-01 00:56:38|  2018-01-01 01:01:05|              1|          1.0|         1|                 N|         238|          24|           1|        5.5|  0.5|    0.5|       1.7|         0.0|                  0.3|         8.5|                NULL|       NULL|              17.0|\n",
      "|       1| 2018-01-01 00:17:04|  2018-01-01 00:22:24|              1|          0.7|         1|                 N|         170|         170|           2|        5.5|  0.5|    0.5|       0.0|         0.0|                  0.3|         6.8|                NULL|       NULL|              13.6|\n",
      "|       1| 2018-01-01 00:41:03|  2018-01-01 00:46:49|              1|          0.6|         1|                 N|         162|         229|           1|        5.5|  0.5|    0.5|      1.35|         0.0|                  0.3|        8.15|                NULL|       NULL|              16.3|\n",
      "|       1| 2018-01-01 00:52:54|  2018-01-01 01:17:33|              1|          3.5|         1|                 N|         141|         113|           2|       16.5|  0.5|    0.5|       0.0|         0.0|                  0.3|        17.8|                NULL|       NULL|              35.6|\n",
      "|       2| 2018-01-01 00:17:54|  2018-01-01 00:22:05|              1|         1.04|         1|                 N|         137|         224|           2|        5.5|  0.5|    0.5|       0.0|         0.0|                  0.3|         6.8|                NULL|       NULL|              13.6|\n",
      "|       2| 2018-01-01 00:24:47|  2018-01-01 00:34:20|              1|         1.22|         1|                 N|         224|          79|           2|        7.5|  0.5|    0.5|       0.0|         0.0|                  0.3|         8.8|                NULL|       NULL|              17.6|\n",
      "|       2| 2018-01-01 00:37:57|  2018-01-01 00:53:43|              1|         1.92|         1|                 N|         234|         100|           2|       10.0|  0.5|    0.5|       0.0|         0.0|                  0.3|        11.3|                NULL|       NULL|              22.6|\n",
      "|       1| 2018-01-01 00:35:53|  2018-01-01 00:52:59|              1|          5.7|         1|                 N|          13|         189|           1|       19.0|  0.5|    0.5|      4.05|         0.0|                  0.3|       24.35|                NULL|       NULL|              48.7|\n",
      "|       2| 2018-01-01 00:30:47|  2018-01-01 01:13:20|              1|         3.74|         1|                 N|          48|         236|           1|       25.5|  0.5|    0.5|       6.7|         0.0|                  0.3|        33.5|                NULL|       NULL|              67.0|\n",
      "|       1| 2018-01-01 00:21:45|  2018-01-01 00:25:58|              2|          0.6|         1|                 N|         163|         162|           1|        4.5|  0.5|    0.5|       1.7|         0.0|                  0.3|         7.5|                NULL|       NULL|              15.0|\n",
      "|       1| 2018-01-01 00:31:11|  2018-01-01 01:07:56|              1|         10.9|         1|                 N|         229|          61|           2|       35.0|  0.5|    0.5|       0.0|         0.0|                  0.3|        36.3|                NULL|       NULL|              72.6|\n",
      "|       2| 2018-01-01 00:15:42|  2018-01-01 00:21:38|              5|         1.22|         1|                 N|         236|          75|           2|        6.0|  0.5|    0.5|       0.0|         0.0|                  0.3|         7.3|                NULL|       NULL|              14.6|\n",
      "+--------+--------------------+---------------------+---------------+-------------+----------+------------------+------------+------------+------------+-----------+-----+-------+----------+------------+---------------------+------------+--------------------+-----------+------------------+\n",
      "only showing top 20 rows\n"
     ]
    }
   ],
   "source": [
    "df.show()"
   ]
  },
  {
   "cell_type": "code",
   "execution_count": 22,
   "id": "4297bc0f-aeb1-4c34-9211-30c9884b5e81",
   "metadata": {},
   "outputs": [
    {
     "name": "stdout",
     "output_type": "stream",
     "text": [
      "+------------+----------------+\n",
      "|PULocationID|total_passengers|\n",
      "+------------+----------------+\n",
      "|          44|               1|\n",
      "|         204|               1|\n",
      "|         184|               2|\n",
      "|         187|               2|\n",
      "|           5|               3|\n",
      "|         176|               3|\n",
      "|          46|               3|\n",
      "|          58|               4|\n",
      "|           2|               4|\n",
      "|         199|               4|\n",
      "|          30|               4|\n",
      "|         245|               5|\n",
      "|         221|               6|\n",
      "|         214|               6|\n",
      "|          84|               8|\n",
      "|         105|               8|\n",
      "|         156|               8|\n",
      "|         109|               8|\n",
      "|         251|               9|\n",
      "|         115|              12|\n",
      "+------------+----------------+\n",
      "only showing top 20 rows\n"
     ]
    }
   ],
   "source": [
    "passenger_by_area = df.groupBy(\"PULocationID\").agg(sum(\"passenger_count\").alias(\"total_passengers\")).orderBy(\"total_passengers\")\n",
    "\n",
    "passenger_by_area.show()"
   ]
  },
  {
   "cell_type": "code",
   "execution_count": 23,
   "id": "01dfdf7c-ded5-4262-bac7-36000fc3898a",
   "metadata": {},
   "outputs": [
    {
     "name": "stdout",
     "output_type": "stream",
     "text": [
      "+--------+------------------+------------------+------------------+\n",
      "|VendorID|          avg_fare| avg_total_earning|       avg_revenue|\n",
      "+--------+------------------+------------------+------------------+\n",
      "|       1|11.959975333672647|15.127384289902137|30.254768579804274|\n",
      "|       2|12.467037370438032|15.775723474073514|31.545275988143338|\n",
      "+--------+------------------+------------------+------------------+\n",
      "\n"
     ]
    }
   ],
   "source": [
    "vendor_earnings = df.groupBy(\"VendorID\") \\\n",
    "    .agg(\n",
    "        avg(\"fare_amount\").alias(\"avg_fare\"),\n",
    "        avg(\"total_amount\").alias(\"avg_total_earning\"),\n",
    "        avg(\"Revenue\").alias(\"avg_revenue\")\n",
    "    ).orderBy(\"VendorID\")\n",
    "\n",
    "vendor_earnings.show()"
   ]
  },
  {
   "cell_type": "code",
   "execution_count": 26,
   "id": "3b3ad9b7-cd49-453c-8b61-2db4289188c9",
   "metadata": {},
   "outputs": [
    {
     "name": "stdout",
     "output_type": "stream",
     "text": [
      "+------------+--------------------+------------+-------------+\n",
      "|payment_type|tpep_pickup_datetime|total_amount|running_count|\n",
      "+------------+--------------------+------------+-------------+\n",
      "|           1| 2002-12-31 23:01:55|        7.56|            1|\n",
      "|           1| 2003-01-01 00:06:34|       48.96|            2|\n",
      "|           1| 2008-12-31 18:30:07|      180.06|            3|\n",
      "|           1| 2008-12-31 23:02:27|       22.88|            4|\n",
      "|           1| 2008-12-31 23:45:58|       28.56|            5|\n",
      "|           1| 2009-01-01 00:36:33|       12.36|            6|\n",
      "|           1| 2009-01-01 00:48:49|       20.38|            7|\n",
      "|           1| 2009-01-01 01:14:52|       18.36|            8|\n",
      "|           1| 2009-01-01 01:37:21|        6.36|            9|\n",
      "|           1| 2009-01-01 03:32:24|       38.47|           10|\n",
      "|           1| 2009-01-01 08:04:56|       49.86|           11|\n",
      "|           1| 2009-01-01 10:05:05|        12.0|           12|\n",
      "|           1| 2009-01-01 13:25:15|         9.0|           13|\n",
      "|           1| 2009-01-01 22:57:08|        16.8|           14|\n",
      "|           1| 2017-12-31 10:53:16|       14.76|           15|\n",
      "|           1| 2017-12-31 11:08:42|       14.12|           16|\n",
      "|           1| 2017-12-31 11:11:39|       21.96|           17|\n",
      "|           1| 2017-12-31 11:15:35|        9.36|           18|\n",
      "|           1| 2017-12-31 11:17:35|       24.36|           19|\n",
      "|           1| 2017-12-31 11:22:21|       27.96|           20|\n",
      "+------------+--------------------+------------+-------------+\n",
      "only showing top 20 rows\n"
     ]
    }
   ],
   "source": [
    "from pyspark.sql.window import Window\n",
    "\n",
    "window_spec = Window.partitionBy(\"payment_type\").orderBy(\"tpep_pickup_datetime\").rowsBetween(Window.unboundedPreceding, Window.currentRow)\n",
    "\n",
    "payment_analysis = df.select(\n",
    "    \"payment_type\",\n",
    "    \"tpep_pickup_datetime\",\n",
    "    \"total_amount\"\n",
    ").withColumn(\n",
    "    \"running_count\", \n",
    "    row_number().over(window_spec)\n",
    ")\n",
    "\n",
    "payment_analysis.orderBy(\"payment_type\", \"tpep_pickup_datetime\").show()"
   ]
  },
  {
   "cell_type": "code",
   "execution_count": 27,
   "id": "a125a887-96aa-4e17-8869-97c0a0f74c89",
   "metadata": {},
   "outputs": [
    {
     "name": "stdout",
     "output_type": "stream",
     "text": [
      "+--------+-----------------+---------------------+-------------------+\n",
      "|VendorID|    total_revenue|total_passenger_count|total_trip_distance|\n",
      "+--------+-----------------+---------------------+-------------------+\n",
      "|       2|544.9800000000001|                   21|  48.89999999999999|\n",
      "+--------+-----------------+---------------------+-------------------+\n",
      "\n"
     ]
    }
   ],
   "source": [
    "from pyspark.sql.functions import date_format, desc\n",
    "\n",
    "specific_date = \"2009-01-01\"\n",
    "\n",
    "top_vendors = df.filter(date_format(\"tpep_pickup_datetime\", \"yyyy-MM-dd\") == specific_date) \\\n",
    "                    .groupBy(\"VendorID\") \\\n",
    "                    .agg(sum(\"Revenue\").alias(\"total_revenue\"), sum(\"passenger_count\").alias(\"total_passenger_count\"), sum(\"trip_distance\").alias(\"total_trip_distance\")) \\\n",
    "                    .orderBy(desc(\"total_revenue\")) \\\n",
    "                    .limit(2)\n",
    "\n",
    "top_vendors.show()"
   ]
  },
  {
   "cell_type": "code",
   "execution_count": 28,
   "id": "c1259dfb-f7a5-4efd-9068-e45c97c24738",
   "metadata": {},
   "outputs": [
    {
     "name": "stdout",
     "output_type": "stream",
     "text": [
      "+------------+------------+----------------+\n",
      "|PULocationID|DOLocationID|total_passengers|\n",
      "+------------+------------+----------------+\n",
      "|         264|         264|          186705|\n",
      "|         237|         236|           86737|\n",
      "|         236|         236|           78691|\n",
      "|         236|         237|           71752|\n",
      "|         237|         237|           64499|\n",
      "|         239|         238|           44479|\n",
      "|         239|         142|           42383|\n",
      "|         142|         239|           40365|\n",
      "|         238|         239|           37758|\n",
      "|         141|         236|           36201|\n",
      "|         230|         186|           35109|\n",
      "|         237|         162|           34384|\n",
      "|         186|         230|           33942|\n",
      "|         263|         236|           33661|\n",
      "|         161|         237|           33641|\n",
      "|         237|         161|           33593|\n",
      "|         239|         239|           32184|\n",
      "|          48|          48|           31495|\n",
      "|          79|          79|           31263|\n",
      "|         186|         161|           31190|\n",
      "+------------+------------+----------------+\n",
      "only showing top 20 rows\n"
     ]
    }
   ],
   "source": [
    "route_passengers = df.groupBy(\"PULocationID\", \"DOLocationID\").agg(sum(\"passenger_count\").alias(\"total_passengers\")).orderBy(desc(\"total_passengers\"))\n",
    "\n",
    "route_passengers.show()"
   ]
  },
  {
   "cell_type": "code",
   "execution_count": 29,
   "id": "2f449bf0-e881-4e31-9e08-9fb9602be349",
   "metadata": {},
   "outputs": [],
   "source": [
    "from datetime import timedelta\n",
    "\n",
    "latest_time = df.agg(max(\"tpep_pickup_datetime\").alias(\"max_time\")).collect()[0][\"max_time\"]\n",
    "\n",
    "time_window_10s = latest_time - timedelta(seconds=10)\n",
    "time_window_5s = latest_time - timedelta(seconds=5)\n",
    "\n",
    "recent_pickups_10s = df.filter(col(\"tpep_pickup_datetime\") >= time_window_10s) \\\n",
    "                        .groupBy(\"PULocationID\") \\\n",
    "                        .agg(\n",
    "                            sum(\"passenger_count\").alias(\"passengers_last_10s\")\n",
    "                        ).orderBy(desc(\"passengers_last_10s\"))\n",
    "\n",
    "recent_pickups_5s = df.filter(col(\"tpep_pickup_datetime\") >= time_window_5s) \\\n",
    "                        .groupBy(\"PULocationID\") \\\n",
    "                        .agg(\n",
    "                            sum(\"passenger_count\").alias(\"passengers_last_5s\")\n",
    "                        ).orderBy(desc(\"passengers_last_5s\"))"
   ]
  },
  {
   "cell_type": "code",
   "execution_count": 30,
   "id": "d7a940ca-e95a-455a-98de-b068d748623e",
   "metadata": {},
   "outputs": [
    {
     "name": "stdout",
     "output_type": "stream",
     "text": [
      "+------------+-------------------+\n",
      "|PULocationID|passengers_last_10s|\n",
      "+------------+-------------------+\n",
      "|          48|                  2|\n",
      "+------------+-------------------+\n",
      "\n"
     ]
    }
   ],
   "source": [
    "recent_pickups_10s.show()"
   ]
  },
  {
   "cell_type": "code",
   "execution_count": 31,
   "id": "438fe227-d4e9-46e9-a3cc-c4762322acf0",
   "metadata": {},
   "outputs": [
    {
     "name": "stdout",
     "output_type": "stream",
     "text": [
      "+------------+------------------+\n",
      "|PULocationID|passengers_last_5s|\n",
      "+------------+------------------+\n",
      "|          48|                 2|\n",
      "+------------+------------------+\n",
      "\n"
     ]
    }
   ],
   "source": [
    "recent_pickups_5s.show()"
   ]
  }
 ],
 "metadata": {
  "kernelspec": {
   "display_name": "Python 3 (ipykernel)",
   "language": "python",
   "name": "python3"
  },
  "language_info": {
   "codemirror_mode": {
    "name": "ipython",
    "version": 3
   },
   "file_extension": ".py",
   "mimetype": "text/x-python",
   "name": "python",
   "nbconvert_exporter": "python",
   "pygments_lexer": "ipython3",
   "version": "3.11.9"
  }
 },
 "nbformat": 4,
 "nbformat_minor": 5
}
